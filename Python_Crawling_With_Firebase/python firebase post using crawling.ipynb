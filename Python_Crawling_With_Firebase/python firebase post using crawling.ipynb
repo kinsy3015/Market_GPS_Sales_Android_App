{
 "cells": [
  {
   "cell_type": "code",
   "execution_count": 20,
   "metadata": {},
   "outputs": [],
   "source": [
    "import requests\n",
    "import re\n",
    "import pprint\n",
    "from bs4 import BeautifulSoup\n",
    "import pandas as pd\n",
    "import sys\n",
    "import json\n",
    "import xmltodict\n",
    "\n",
    "#from firebase import firebase\n",
    "#import firebase_admin\n",
    "#from firebase_admin import credentials\n",
    "#from firebase_admin import db\n",
    "#from pprint import pprint"
   ]
  },
  {
   "cell_type": "code",
   "execution_count": 21,
   "metadata": {},
   "outputs": [
    {
     "data": {
      "text/plain": [
       "'(전체상품목록조회)'"
      ]
     },
     "execution_count": 21,
     "metadata": {},
     "output_type": "execute_result"
    }
   ],
   "source": [
    "open_api_key = 'liqoCXpTHOFv9LIJ1vw%2FF17je5JsTUIXvmPyXJqIzX0EhqWhon3okMjRdpyYg1N%2BKich4X%2BANvhdmA8DU3YduA%3D%3D'\n",
    "\n",
    "params =''\n",
    "\n",
    "url = 'http://openapi.price.go.kr/openApiImpl/ProductPriceInfoService/getProductInfoSvc.do?ServiceKey=' + open_api_key\n",
    "\n",
    "\"(전체상품목록조회)\"\n"
   ]
  },
  {
   "cell_type": "code",
   "execution_count": 22,
   "metadata": {},
   "outputs": [
    {
     "data": {
      "text/plain": [
       "'(판매지역정보불러오기)'"
      ]
     },
     "execution_count": 22,
     "metadata": {},
     "output_type": "execute_result"
    }
   ],
   "source": [
    "url2 = 'http://openapi.price.go.kr/openApiImpl/ProductPriceInfoService/getStoreInfoSvc.do?ServiceKey=' + open_api_key\n",
    "\n",
    "\"(판매지역정보불러오기)\""
   ]
  },
  {
   "cell_type": "code",
   "execution_count": 23,
   "metadata": {},
   "outputs": [
    {
     "data": {
      "text/plain": [
       "'(해당 판매업체에서 판매하는 상품 조회)'"
      ]
     },
     "execution_count": 23,
     "metadata": {},
     "output_type": "execute_result"
    }
   ],
   "source": [
    "url3 = 'http://openapi.price.go.kr/openApiImpl/ProductPriceInfoService/getProductPriceInfoSvc.do?goodInspectDay=20100205&entpId=10&ServiceKey=' + open_api_key\n",
    "\n",
    "\"(해당 판매업체에서 판매하는 상품 조회)\""
   ]
  },
  {
   "cell_type": "code",
   "execution_count": 24,
   "metadata": {},
   "outputs": [
    {
     "data": {
      "text/plain": [
       "'(해당 상품을 어디서, 얼마에 판매중인지 조회)'"
      ]
     },
     "execution_count": 24,
     "metadata": {},
     "output_type": "execute_result"
    }
   ],
   "source": [
    "url4 = 'http://openapi.price.go.kr/openApiImpl/ProductPriceInfoService/getProductPriceInfoSvc.do?goodInspectDay=20100205&goodId=31&ServiceKey=' + open_api_key\n",
    "\n",
    "\"(해당 상품을 어디서, 얼마에 판매중인지 조회)\""
   ]
  },
  {
   "cell_type": "code",
   "execution_count": 25,
   "metadata": {},
   "outputs": [
    {
     "data": {
      "text/plain": [
       "'(상품 소분류 코드 조회)'"
      ]
     },
     "execution_count": 25,
     "metadata": {},
     "output_type": "execute_result"
    }
   ],
   "source": [
    "url5 = 'http://openapi.price.go.kr/openApiImpl/ProductPriceInfoService/getStandardInfoSvc.do?classCode=AL&ServiceKey=' + open_api_key\n",
    "\n",
    "\"(상품 소분류 코드 조회)\""
   ]
  },
  {
   "cell_type": "code",
   "execution_count": 26,
   "metadata": {},
   "outputs": [
    {
     "data": {
      "text/plain": [
       "'(지역 소분류 코드 조회하기)'"
      ]
     },
     "execution_count": 26,
     "metadata": {},
     "output_type": "execute_result"
    }
   ],
   "source": [
    "url6 = 'http://openapi.price.go.kr/openApiImpl/ProductPriceInfoService/getStandardInfoSvc.do?classCode=AR&ServiceKey=' + open_api_key\n",
    "\n",
    "\"(지역 소분류 코드 조회하기)\""
   ]
  },
  {
   "cell_type": "code",
   "execution_count": 27,
   "metadata": {},
   "outputs": [
    {
     "data": {
      "text/plain": [
       "\" testing firebase\\ndata = {\\n    'Name':'kkk',\\n    'Phone':'01041515'\\n}\\n\\nresult = firebase.post('/aaaaa-4f8e6/cc',data)\\n\""
      ]
     },
     "execution_count": 27,
     "metadata": {},
     "output_type": "execute_result"
    }
   ],
   "source": [
    "\"\"\" testing firebase\n",
    "data = {\n",
    "    'Name':'kkk',\n",
    "    'Phone':'01041515'\n",
    "}\n",
    "\n",
    "result = firebase.post('/aaaaa-4f8e6/cc',data)\n",
    "\"\"\""
   ]
  },
  {
   "cell_type": "code",
   "execution_count": null,
   "metadata": {},
   "outputs": [],
   "source": [
    "res = requests.get(url)\n",
    "soup = BeautifulSoup(res.content, 'html.parser')\n",
    "data = soup.find_all('item')\n",
    "rows = []\n",
    "for item in data:\n",
    "    g_id = str(item.find(\"goodid\").text)\n",
    "    g_name = str(item.find(\"goodname\").text)\n",
    "    g_pdcode = str(item.find(\"productentpcode\").text)\n",
    "    g_unit = str(item.find(\"goodunitdivcode\").text)\n",
    "    g_cnt = str(item.find(\"goodbasecnt\").text)\n",
    "    g_code = str(item.find(\"goodsmlclscode\").text)\n",
    "    g_detail= str(item.find(\"detailmean\"))\n",
    "    g_detail= re.sub('<.+?>', '', g_detail, 0).strip()\n",
    "    g_totalcnt = str(item.find(\"goodtotalcnt\").text)\n",
    "    g_totaldiv = str(item.find(\"goodtotaldivcode\").text)\n",
    "    \n",
    "    rows.append({\"상품아이디\":g_id,\n",
    "                \"상품명\":g_name,\n",
    "                \"제조업체코드\":g_pdcode,\n",
    "                \"상품_단위_구분_코드\":g_unit,\n",
    "                 \"상품_단위_량\":g_cnt,\n",
    "                 \"상품_소분류_코드\":g_code,\n",
    "                 \"제품_설명_상세\":g_detail,\n",
    "                 \"상품_용량\":g_totalcnt,\n",
    "                 \"상품_용량_구분_코드\":g_totaldiv})\n",
    "\n",
    "\n",
    "        \n",
    "    \n",
    "columns = [\"상품아이디\",\"상품명\",\"제조업체코드\",\"상품_단위_구분_코드\",\"상품_단위_량\",\"상품_소분류_코드\",\"제품_설명_상세\",\"상품_용량\",\"상품_용량_구분_코드\"]\n",
    "catalog_cd_df = pd.DataFrame(rows,columns=columns)\n",
    "cd= catalog_cd_df.fillna(\"no data\")\n",
    "with pd.option_context('display.max_rows', None, 'display.max_columns', None):\n",
    "    print(cd)\n",
    "    \n",
    "\n"
   ]
  },
  {
   "cell_type": "code",
   "execution_count": null,
   "metadata": {},
   "outputs": [],
   "source": [
    "response = requests.get(url) \n",
    "status = response.status_code \n",
    "text = response.text\n",
    "dict_type = xmltodict.parse(text)\n",
    "json_type = json.dumps(dict_type)\n",
    "dict_type = json.loads(json_type)\n",
    "dict_response=dict_type[\"response\"]\n",
    "dict1=dict_response[\"result\"]\n",
    "dict1_good=dict1[\"item\"]\n",
    "print(dict1_good)"
   ]
  },
  {
   "cell_type": "code",
   "execution_count": null,
   "metadata": {},
   "outputs": [],
   "source": [
    "response = requests.get(url2) \n",
    "status = response.status_code \n",
    "text = response.text\n",
    "dict_type = xmltodict.parse(text)\n",
    "json_type = json.dumps(dict_type)\n",
    "dict_type = json.loads(json_type)\n",
    "dict_response=dict_type[\"response\"]\n",
    "dict_result=dict_response[\"result\"]\n",
    "dict2= dict_result['iros.openapi.service.vo.entpInfoVO']\n",
    "print(dict2)"
   ]
  },
  {
   "cell_type": "code",
   "execution_count": null,
   "metadata": {},
   "outputs": [],
   "source": [
    "response = requests.get(url3) \n",
    "status = response.status_code \n",
    "text = response.text\n",
    "dict_type = xmltodict.parse(text)\n",
    "json_type = json.dumps(dict_type)\n",
    "dict_type = json.loads(json_type)\n",
    "dict_response=dict_type[\"response\"]\n",
    "dict_result=dict_response[\"result\"]\n",
    "dict3 = dict_result['iros.openapi.service.vo.goodPriceVO']\n",
    "print(dict3)"
   ]
  },
  {
   "cell_type": "code",
   "execution_count": null,
   "metadata": {},
   "outputs": [],
   "source": [
    "response = requests.get(url4) \n",
    "status = response.status_code \n",
    "text = response.text\n",
    "dict_type = xmltodict.parse(text)\n",
    "json_type = json.dumps(dict_type)\n",
    "dict_type = json.loads(json_type)\n",
    "dict_response=dict_type[\"response\"]\n",
    "dict_result=dict_response[\"result\"]\n",
    "dict4 = dict_result['iros.openapi.service.vo.goodPriceVO']\n",
    "print(dict4)"
   ]
  },
  {
   "cell_type": "code",
   "execution_count": null,
   "metadata": {},
   "outputs": [],
   "source": [
    "response = requests.get(url5) \n",
    "status = response.status_code \n",
    "text = response.text\n",
    "dict_type = xmltodict.parse(text)\n",
    "json_type = json.dumps(dict_type)\n",
    "dict_type = json.loads(json_type)\n",
    "dict_response=dict_type[\"response\"]\n",
    "dict_result=dict_response[\"result\"]\n",
    "dict5=dict_result['iros.openapi.service.vo.stdInfoVO']\n",
    "print(dict5)"
   ]
  },
  {
   "cell_type": "code",
   "execution_count": null,
   "metadata": {},
   "outputs": [],
   "source": [
    "response = requests.get(url6) \n",
    "status = response.status_code \n",
    "text = response.text\n",
    "dict_type = xmltodict.parse(text)\n",
    "json_type = json.dumps(dict_type)\n",
    "dict_type = json.loads(json_type)\n",
    "dict_response=dict_type[\"response\"]\n",
    "dict_result=dict_response[\"result\"]\n",
    "dict6=dict_result['iros.openapi.service.vo.stdInfoVO']\n",
    "print(dict6)"
   ]
  },
  {
   "cell_type": "code",
   "execution_count": null,
   "metadata": {},
   "outputs": [],
   "source": [
    "print(len(dict1_good))\n",
    "print(len(dict2))\n",
    "print(len(dict3))\n",
    "print(len(dict4))\n",
    "print(len(dict5))\n",
    "print(len(dict6))\n",
    "\n",
    "entlist = []\n",
    "\n",
    "for x in range(0,len(dict1)) :\n",
    "    if(dict2[x]['entpAreaCode']=='020100000'):\n",
    "        print(dict2[x])\n",
    "        aa=json.dumps(dict2[x])\n",
    "        entlist.append(aa)\n",
    "        \n",
    "        \n",
    "print(entlist)\n"
   ]
  },
  {
   "cell_type": "code",
   "execution_count": null,
   "metadata": {},
   "outputs": [],
   "source": [
    "firebase = firebase.FirebaseApplication(\"https://wbb-beb41.firebaseio.com/\",None)"
   ]
  },
  {
   "cell_type": "code",
   "execution_count": null,
   "metadata": {},
   "outputs": [],
   "source": [
    "\"\"\"\n",
    "\n",
    "파이썬으로 어떻게 불러올것인가?\n",
    "\n",
    "데이터 정리부분\n",
    "\n",
    "우리가 데이터를 불러올 부분\n",
    "\n",
    "\n",
    "======검색하는 경우======\n",
    "\n",
    "ex)사과\n",
    "\n",
    "사과가 포함된 모든 물건을 검색해야하므로 => ‘전체상품목록’ 불러와야함\n",
    "\n",
    "불러와서 저장 후, 사과가 포함된 리스트 검색\n",
    "\n",
    "이름 순으로 정렬 후 리스트로 노출\n",
    "\n",
    "해당 상품을 누르면\n",
    "\n",
    "해당상품의 아이디를 통해 가격정보를 ‘판매업체기준조회’ 로 불러와야함\n",
    "\n",
    "\n",
    "\n",
    "\n",
    "ex)동작구 (혹은 어떤 지명)(시, 군, 구 단위로만 검색가능)\n",
    "\n",
    "‘동작구(혹은 어떤 지명)의 좌표’를 카카오 api에서 받아옴\n",
    "\n",
    "‘판매지역정보’를 불러옴\n",
    "\n",
    "동작구(혹은 어떤 지명) 반경으로 좌표를 검색해서 해당 업체를 검색해서 리스트로 보여줌\n",
    "\n",
    "업체를 클릭시 -> 가격정보불러오기(판매업체기준조회)\n",
    "\n",
    "\n",
    "\n",
    "ex) 필터\n",
    "\n",
    "필터의 종류1 : 상품 소분류 코드 정보 불러옴 // **검색 이후에 필터 적용 시 일반 필터처럼 해당 상품만 남아야함\n",
    "\n",
    "ex2) 상품 필터만 적용하는 경우 -> ‘전체상품목록’ 불러와서 해당 코드만 조회하고 해당하는 상품을 리스트에 노출\n",
    "\n",
    "ex3) 사과 검색 후 필터 ‘차, 음료’ 적용시 사과식초, 햇사과, 사과아이스크림 등은 제외하고 사과주스, 사과차만 남도록해야\n",
    "\n",
    "ex4) 동작구 검색 필터 ‘치즈’ 적용시 불러온 업체에서 치즈 카테고리를 남겨서 검색\n",
    "\n",
    "\n",
    "필터의 종류2 : 지명 코드 불러옴 // ** 검색 이후에 필터 적용 시 일반 필터처럼 해당 지역의 업체만 남아야함\n",
    "\n",
    "\n",
    "\"\"\""
   ]
  },
  {
   "cell_type": "code",
   "execution_count": null,
   "metadata": {},
   "outputs": [],
   "source": [
    "\n",
    "\n",
    "print(len(dict1_good))\n",
    "for x in range(0,len(dict1_good)-300) :\n",
    "    \n",
    "    dict1_good[x]['goodName']\n",
    "    print(dict1_good[x]['goodName'])\n",
    "    \n",
    "    img_url = \"https://www.google.com/search\"\n",
    "\n",
    "    params = {\n",
    "            'q': dict1_good[x]['goodName'],\n",
    "            'tbm':'isch'\n",
    "        }\n",
    "\n",
    "\n",
    "    res = requests.get(img_url,params)\n",
    "    soup = BeautifulSoup(res.content, 'lxml')\n",
    "    img_tag=soup.select('img')\n",
    "    img_src=soup.find('img')\n",
    "\n",
    "\n",
    "\n",
    "# print(type(img_tag))\n",
    "    print(img_tag[1]['src'])\n",
    "    dict1_good[x]['src'] =img_tag[1]['src']\n",
    "#     print(dict1_good[x])\n",
    "\n",
    "    \n",
    "    \n",
    "    \n",
    "    \n",
    "\n",
    "\n",
    "# print(img_tag[1].find(attrs=\"src\"))\n",
    "# print(img_src)\n",
    "# print(img_src.attrs)\n",
    "\n",
    "print(dict1_good)\n",
    "\n"
   ]
  },
  {
   "cell_type": "code",
   "execution_count": null,
   "metadata": {},
   "outputs": [],
   "source": [
    "print(dict1_good)"
   ]
  },
  {
   "cell_type": "code",
   "execution_count": null,
   "metadata": {},
   "outputs": [],
   "source": [
    "result1 = firebase.post('/wbb-beb41/good',dict1_good)\n",
    "result2 = firebase.post('/wbb-beb41/entp',dict2)\n",
    "result3 = firebase.post('/wbb-beb41/price',dict3)\n",
    "result4 = firebase.post('/wbb-beb41/price2',dict4)\n",
    "result5 = firebase.post('/wbb-beb41/stdinfo',dict5)\n",
    "result6 = firebase.post('/wbb-beb41/area',dict6)"
   ]
  }
 ],
 "metadata": {
  "kernelspec": {
   "display_name": "Python 3 (ipykernel)",
   "language": "python",
   "name": "python3"
  },
  "language_info": {
   "codemirror_mode": {
    "name": "ipython",
    "version": 3
   },
   "file_extension": ".py",
   "mimetype": "text/x-python",
   "name": "python",
   "nbconvert_exporter": "python",
   "pygments_lexer": "ipython3",
   "version": "3.11.5"
  }
 },
 "nbformat": 4,
 "nbformat_minor": 4
}
